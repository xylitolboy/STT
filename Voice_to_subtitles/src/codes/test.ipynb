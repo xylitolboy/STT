{
 "cells": [
  {
   "cell_type": "code",
   "execution_count": 1,
   "metadata": {},
   "outputs": [],
   "source": [
    "import pytube\n",
    "import requests\n",
    "import os \n",
    "import bs4\n",
    "import json\n",
    "\n",
    "class Youtube_Downloader:\n",
    "    def __init__(self) -> None:\n",
    "        self.download_path = \"./Voice_to_subtitles/src/Resources\"\n",
    "\n",
    "    def download_video(self):\n",
    "        pl = pytube.Playlist(\"https://www.youtube.com/playlist?list=PLDIoUOhQQPlXr63I_vwF9GD8sAKh77dWU\")\n",
    "        "
   ]
  },
  {
   "cell_type": "code",
   "execution_count": 2,
   "metadata": {},
   "outputs": [],
   "source": [
    "pl = pytube.Playlist(\"https://www.youtube.com/playlist?list=PLDIoUOhQQPlXr63I_vwF9GD8sAKh77dWU\")"
   ]
  },
  {
   "cell_type": "code",
   "execution_count": 5,
   "metadata": {},
   "outputs": [
    {
     "data": {
      "text/plain": [
       "['https://www.youtube.com/watch?v=q3zqJs7JUCQ', 'https://www.youtube.com/watch?v=KNtJGQkC-WI', 'https://www.youtube.com/watch?v=aezstCBHOPQ', 'https://www.youtube.com/watch?v=eVli-tstM5E', 'https://www.youtube.com/watch?v=G7KNmW9a75Y', 'https://www.youtube.com/watch?v=hOUch92RrYc', 'https://www.youtube.com/watch?v=suAR1PYFNYA', 'https://www.youtube.com/watch?v=ODDRRXMi22E', 'https://www.youtube.com/watch?v=To4SWGZkEPk', 'https://www.youtube.com/watch?v=jCOX8dT9q8M', 'https://www.youtube.com/watch?v=N9bKBAA22Go', 'https://www.youtube.com/watch?v=EoVQ_TQFJy0', 'https://www.youtube.com/watch?v=taexXnYyPvo', 'https://www.youtube.com/watch?v=ZVVvJjwzl6c', 'https://www.youtube.com/watch?v=4xZSClBlrfU', 'https://www.youtube.com/watch?v=ic8j13piAhQ', 'https://www.youtube.com/watch?v=HB8Lr6N8Uso', 'https://www.youtube.com/watch?v=GZ3zL7kT6_c', 'https://www.youtube.com/watch?v=0c66ksfigtU', 'https://www.youtube.com/watch?v=Oa_RSwwpPaA', 'https://www.youtube.com/watch?v=Sv5yCzPCkv8', 'https://www.youtube.com/watch?v=kq6yGtEQlpU', 'https://www.youtube.com/watch?v=U4mADkt6o-M', 'https://www.youtube.com/watch?v=m4_9TFeMfJE', 'https://www.youtube.com/watch?v=-r687V8yqKY', 'https://www.youtube.com/watch?v=OiC1rgCPmUQ', 'https://www.youtube.com/watch?v=eB6txyhHFG4', 'https://www.youtube.com/watch?v=ZjBZ8MUnB0E', 'https://www.youtube.com/watch?v=XoiOOiuH8iI', 'https://www.youtube.com/watch?v=bUjPPBxbQrQ', 'https://www.youtube.com/watch?v=Xty2gi5cMa8', 'https://www.youtube.com/watch?v=WcIcVapfqXw', 'https://www.youtube.com/watch?v=Iq8h3GEe22o', 'https://www.youtube.com/watch?v=l21wGxlWwPw', 'https://www.youtube.com/watch?v=vt0i6nuqNEo', 'https://www.youtube.com/watch?v=IZ3XMOdOdKM', 'https://www.youtube.com/watch?v=mHNCM-YALSA', 'https://www.youtube.com/watch?v=f4Y3b7un4LE', 'https://www.youtube.com/watch?v=Fqey8LxQxFU', 'https://www.youtube.com/watch?v=CUj2AWEJnwQ', 'https://www.youtube.com/watch?v=vYa3ak-3p60', 'https://www.youtube.com/watch?v=QXcjPySjdJU', 'https://www.youtube.com/watch?v=hhKNjTb6U1Y', 'https://www.youtube.com/watch?v=-I8DrXXGd9E', 'https://www.youtube.com/watch?v=4D89Qr5vH6U', 'https://www.youtube.com/watch?v=UYCWaK6Sbik', 'https://www.youtube.com/watch?v=X7aF3nZOS98', 'https://www.youtube.com/watch?v=Z4N8lzKNfy4', 'https://www.youtube.com/watch?v=cW8VLC9nnTo', 'https://www.youtube.com/watch?v=61ymOWwOwuk', 'https://www.youtube.com/watch?v=Mx92lTYxrJQ', 'https://www.youtube.com/watch?v=V2G8ESoDXm8', 'https://www.youtube.com/watch?v=Dj9qJsJTsjQ', 'https://www.youtube.com/watch?v=DGVjmJpCRUg', 'https://www.youtube.com/watch?v=XzOvgu3GPwY', 'https://www.youtube.com/watch?v=P1nRboaLTzU', 'https://www.youtube.com/watch?v=b1kbLwvqugk', 'https://www.youtube.com/watch?v=XVgCLQ_JQfU', 'https://www.youtube.com/watch?v=P8Am-QTUQes', 'https://www.youtube.com/watch?v=yOuqn4w1ozA', 'https://www.youtube.com/watch?v=5DCdL1zdpdM', 'https://www.youtube.com/watch?v=sqSA-SY5Hro', 'https://www.youtube.com/watch?v=oXS8DxRYvbU', 'https://www.youtube.com/watch?v=SQnc1QibapQ', 'https://www.youtube.com/watch?v=Qc7_zRjH808', 'https://www.youtube.com/watch?v=iD__IJWqwY8', 'https://www.youtube.com/watch?v=27nRqoBQLl4', 'https://www.youtube.com/watch?v=LuKm4L9ryB0', 'https://www.youtube.com/watch?v=7w2O70G42bs', 'https://www.youtube.com/watch?v=kC8YEw9h2-Q', 'https://www.youtube.com/watch?v=eiPX0qqT_Nk', 'https://www.youtube.com/watch?v=S2TaAcwC_zI', 'https://www.youtube.com/watch?v=QU9c0053UAU', 'https://www.youtube.com/watch?v=b1_RKu-ESCY', 'https://www.youtube.com/watch?v=kLbn61Z4LDI', 'https://www.youtube.com/watch?v=_3jv0_wGK1M', 'https://www.youtube.com/watch?v=vx4kLgnFexo', 'https://www.youtube.com/watch?v=3c909oqLfao', 'https://www.youtube.com/watch?v=MoN9ql6Yymw', 'https://www.youtube.com/watch?v=U-l4ya3ejko', 'https://www.youtube.com/watch?v=-WtNCR3EDS4', 'https://www.youtube.com/watch?v=1JltlSJH5bY', 'https://www.youtube.com/watch?v=hLDQ88vAhIs', 'https://www.youtube.com/watch?v=BVdngsy95mY', 'https://www.youtube.com/watch?v=BeUOBoSPWvA', 'https://www.youtube.com/watch?v=pGsetzZscws', 'https://www.youtube.com/watch?v=UqmUxkRPBS0', 'https://www.youtube.com/watch?v=ZUKTn7UWO54', 'https://www.youtube.com/watch?v=2_gLD1jarfU', 'https://www.youtube.com/watch?v=DhCJtYIMPno', 'https://www.youtube.com/watch?v=_kS7F4VpJa0', 'https://www.youtube.com/watch?v=gMq-I0dejjE', 'https://www.youtube.com/watch?v=tvmUrOSahsc', 'https://www.youtube.com/watch?v=YQ-qToZUybM', 'https://www.youtube.com/watch?v=H5v3kku4y6Q', 'https://www.youtube.com/watch?v=rJWdfDPZ9Ck', 'https://www.youtube.com/watch?v=6dW4d0IcQ3k', 'https://www.youtube.com/watch?v=90RLzVUuXe4', 'https://www.youtube.com/watch?v=FOaGTPHd0R4', 'https://www.youtube.com/watch?v=p7mmufTXdMQ']"
      ]
     },
     "execution_count": 5,
     "metadata": {},
     "output_type": "execute_result"
    }
   ],
   "source": [
    "pl.video_urls"
   ]
  },
  {
   "cell_type": "code",
   "execution_count": 10,
   "metadata": {},
   "outputs": [],
   "source": [
    "temp_yt = pytube.YouTube(\"https://www.youtube.com/watch?v=ODDRRXMi22E\")"
   ]
  },
  {
   "cell_type": "code",
   "execution_count": 11,
   "metadata": {},
   "outputs": [
    {
     "data": {
      "text/plain": [
       "False"
      ]
     },
     "execution_count": 11,
     "metadata": {},
     "output_type": "execute_result"
    }
   ],
   "source": [
    "temp_yt.age_restricted"
   ]
  },
  {
   "cell_type": "code",
   "execution_count": null,
   "metadata": {},
   "outputs": [],
   "source": [
    "import re\n",
    "from pytube import Playlist\n",
    "\n",
    "YOUTUBE_STREAM_AUDIO = '140' # modify the value to download a different stream\n",
    "DOWNLOAD_DIR = \"Voice_to_subtitles/src/Resources\"\n",
    "\n",
    "playlist = Playlist('https://www.youtube.com/playlist?list=PLzwWSJNcZTMSW-v1x6MhHFKkwrGaEgQ-L')\n",
    "\n",
    "# this fixes the empty playlist.videos list\n",
    "playlist._video_regex = re.compile(r\"\\\"url\\\":\\\"(/watch\\?v=[\\w-]*)\")\n",
    "\n",
    "print(len(playlist.video_urls))\n",
    "\n",
    "for url in playlist.video_urls:\n",
    "    print(url)\n",
    "\n",
    "# physically downloading the audio track\n",
    "for video in playlist.videos:\n",
    "    audioStream = video.streams.get_by_itag(YOUTUBE_STREAM_AUDIO)\n",
    "    audioStream.download(output_path=DOWNLOAD_DIR)"
   ]
  }
 ],
 "metadata": {
  "kernelspec": {
   "display_name": "binance",
   "language": "python",
   "name": "python3"
  },
  "language_info": {
   "codemirror_mode": {
    "name": "ipython",
    "version": 3
   },
   "file_extension": ".py",
   "mimetype": "text/x-python",
   "name": "python",
   "nbconvert_exporter": "python",
   "pygments_lexer": "ipython3",
   "version": "3.12.3"
  }
 },
 "nbformat": 4,
 "nbformat_minor": 2
}
